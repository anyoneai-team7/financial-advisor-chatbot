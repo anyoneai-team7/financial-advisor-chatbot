{
 "cells": [
  {
   "attachments": {},
   "cell_type": "markdown",
   "metadata": {},
   "source": [
    "# This notebook is using to simulate a user that is chatting with the chatBot"
   ]
  },
  {
   "cell_type": "code",
   "execution_count": 1,
   "metadata": {},
   "outputs": [],
   "source": [
    "import json\n",
    "import redis\n",
    "import time\n",
    "import os\n",
    "from uuid import uuid4\n",
    "from generative_retirver import settings\n",
    "\n",
    "from haystack.document_stores import ElasticsearchDocumentStore\n",
    "from haystack.nodes import PreProcessor\n",
    "from eda.src import config"
   ]
  },
  {
   "attachments": {},
   "cell_type": "markdown",
   "metadata": {},
   "source": [
    "### Cretating Document store\n",
    "first run the docker-compose.yaml\n",
    "\n",
    "**> docker-compose up -d**"
   ]
  },
  {
   "cell_type": "code",
   "execution_count": 2,
   "metadata": {},
   "outputs": [],
   "source": [
    "# Get the host where Elasticsearch is running, default to localhost\n",
    "host = os.environ.get(\"ELASTICSEARCH_HOST\", \"localhost\")\n",
    "\n",
    "document_store = ElasticsearchDocumentStore(\n",
    "    host=host,\n",
    "    username=\"\",\n",
    "    password=\"\",\n",
    "    index=\"document\"\n",
    ")"
   ]
  },
  {
   "cell_type": "code",
   "execution_count": 3,
   "metadata": {},
   "outputs": [],
   "source": [
    "json_file_path = os.path.join(config.DATA_PROCESSED_PATH, \"json_dataset.json\")\n",
    "# Load the documents from the JSON file\n",
    "with open(json_file_path, \"r\") as f:\n",
    "    document_list = json.load(f)"
   ]
  },
  {
   "cell_type": "code",
   "execution_count": 4,
   "metadata": {},
   "outputs": [
    {
     "data": {
      "application/vnd.jupyter.widget-view+json": {
       "model_id": "ffe0fc4f46b84d3db07928c9714c7f46",
       "version_major": 2,
       "version_minor": 0
      },
      "text/plain": [
       "Preprocessing:   0%|          | 0/10 [00:00<?, ?docs/s]"
      ]
     },
     "metadata": {},
     "output_type": "display_data"
    },
    {
     "name": "stderr",
     "output_type": "stream",
     "text": [
      "Document ce803e014fb54e0713db190d4857f33 is 166040 characters long after preprocessing, where the maximum length should be 10000. Something might be wrong with the splitting, check the document affected to prevent issues at query time.\n",
      "Document f0a84d290964abe8583b799bfa63f0fa is 162796 characters long after preprocessing, where the maximum length should be 10000. Something might be wrong with the splitting, check the document affected to prevent issues at query time.\n"
     ]
    }
   ],
   "source": [
    "# Create an instance of PreProcessor\n",
    "# Each document is divided into paragraphs of approximately 500 tokens.\n",
    "\n",
    "preprocessor = PreProcessor(\n",
    "    clean_empty_lines=True,\n",
    "    clean_whitespace=True,\n",
    "    clean_header_footer=True,\n",
    "    split_by=\"word\",\n",
    "    split_length=200,\n",
    "    split_overlap=20,\n",
    "    split_respect_sentence_boundary=False,\n",
    ")\n",
    "\n",
    "doc_processed = preprocessor.process(document_list)\n",
    "\n",
    "# clear the document store before loading documents\n",
    "document_store.delete_documents()\n",
    "\n",
    "# Upload documents to the document store\n",
    "document_store.write_documents(doc_processed)"
   ]
  },
  {
   "attachments": {},
   "cell_type": "markdown",
   "metadata": {},
   "source": [
    "### Load message broker redi"
   ]
  },
  {
   "cell_type": "code",
   "execution_count": 9,
   "metadata": {},
   "outputs": [
    {
     "data": {
      "text/plain": [
       "True"
      ]
     },
     "execution_count": 9,
     "metadata": {},
     "output_type": "execute_result"
    }
   ],
   "source": [
    "# Connect to Redis and assign to variable `db``\n",
    "# Make use of settings.py module to get Redis settings like host, port, etc.\n",
    "db = redis.Redis(settings.REDIS_IP, settings.REDIS_PORT, db=settings.REDIS_DB_ID)\n",
    "db.ping()"
   ]
  },
  {
   "cell_type": "code",
   "execution_count": 24,
   "metadata": {},
   "outputs": [],
   "source": [
    "\n",
    "def model_predict(job_id, messages):\n",
    "    \"\"\"\n",
    "    Receives the name of the user_jason and queues the job into Redis.\n",
    "    Will loop until getting the answer from our retriver-generative service.\n",
    "\n",
    "    Parameters\n",
    "    ----------\n",
    "    job_id: str\n",
    "        id of the task\n",
    "    messages : list[dict]\n",
    "        chat_history\n",
    "\n",
    "    Returns\n",
    "    -------\n",
    "    answer:  str\n",
    "        Model generate an answer as a string \n",
    "    \"\"\"\n",
    "    \n",
    "    # Assign an unique ID for this job and add it to the queue.\n",
    "    # We need to assing this ID because we must be able to keep track\n",
    "    # of this particular job across all the services\n",
    "    job_id = str(uuid4())\n",
    "\n",
    "    # Create a dict with the job data we will send through Redis having the   \n",
    "    Out_dict = {\n",
    "        \"id\": job_id,\n",
    "        \"messages\":messages,\n",
    "    }\n",
    "    job_data = json.dumps(Out_dict)\n",
    "\n",
    "    # Send the job to the model service using Redis \n",
    "    db.lpush(settings.REDIS_QUEUE, job_data)\n",
    "\n",
    "    # Loop until we received the response from the retriver-generative model\n",
    "    while True:\n",
    "        # Attempt to get model predictions using job_id        \n",
    "        output = db.get(job_id)\n",
    "\n",
    "        # Check if the text was correctly processed by our model\n",
    "        if output is not None:\n",
    "            answer = json.loads(output)['answer']\n",
    "            \n",
    "            db.delete(job_id)\n",
    "            break\n",
    "\n",
    "        # Sleep some time waiting for model results\n",
    "        time.sleep(settings.SERVER_SLEEP)\n",
    "\n",
    "    return answer"
   ]
  },
  {
   "attachments": {},
   "cell_type": "markdown",
   "metadata": {},
   "source": [
    "### Simulating a user\n",
    "first run in bash the retriver-generative model\n",
    "\n",
    "**> python .\\generative_retirver\\retriver_gen.py**"
   ]
  },
  {
   "cell_type": "code",
   "execution_count": 31,
   "metadata": {},
   "outputs": [],
   "source": [
    "def use_list_dict(list_dict, new_sentence = None, isquery=True):\n",
    "     \"\"\" \n",
    "     Processing the list of dictionary. If new_sentence is not added then just return the string query.\n",
    "     Otherwise, it appends the new sentence to the list in the role determined by isquery\n",
    "\n",
    "     Parameters\n",
    "    ----------\n",
    "    list_dict: list[dict]\n",
    "        list of dictionary\n",
    "     new_sentence: str\n",
    "        new sentence tha can be an user query or sytem answer\n",
    "     isquery: bool\n",
    "        True -> new_sentence is a query / False -> new_sentence is an answer\n",
    "\n",
    "    Returns\n",
    "    -------\n",
    "    query_prompt (str) \n",
    "          if new_sentence in None\n",
    "    list_dict: list[dict]\n",
    "          list of dictionary with new sentence append\n",
    "    \"\"\"\n",
    "     \n",
    "     if not new_sentence:\n",
    "         query_prompt = ' \\n '.join([f\"{item['role']}: {item['conten']}\" for item in list_dict])\n",
    "         return query_prompt\n",
    "     if isquery:\n",
    "          list_dict.append({'role':'user', 'conten':new_sentence})\n",
    "     else:\n",
    "          list_dict.append({'role':'assistant', 'conten':new_sentence})\n",
    "\n",
    "     return list_dict"
   ]
  },
  {
   "cell_type": "code",
   "execution_count": 30,
   "metadata": {},
   "outputs": [
    {
     "name": "stdout",
     "output_type": "stream",
     "text": [
      "\n",
      " What are stock symbols for Seagate Technology PLC and nicolet-bankshares-inc?  \n",
      " The stock symbol for Seagate Technology PLC is STX and the stock symbol for Nicolet Bankshares Inc is NCBS.\n",
      "\n",
      " What are their latest financial performance?   \n",
      " Seagate Technology PLC reported a revenue of $2.7 billion and a net income of $482 million in Q2 2021. Nicolet Bankshares Inc reported a net income of $10.5 million and a return on average assets of 1.28% in Q1 2021.\n",
      "\n",
      " Do they have a global presence?  \n",
      " Seagate Technology PLC has a global presence in over 40 countries, while information on Nicolet Bankshares Inc's global presence is not readily available.\n"
     ]
    }
   ],
   "source": [
    "def run_chatbox():\n",
    "    #query = 'first query'\n",
    "    chat_history=[]\n",
    "    job_id = str(uuid4())\n",
    "    while True:\n",
    "        query = input('User: ')\n",
    "        if query == 'exit': \n",
    "            return chat_history\n",
    "        chat_history = use_list_dict(chat_history, query, isquery=True)\n",
    "        \n",
    "        answer = model_predict(job_id, chat_history) \n",
    "        chat_history = use_list_dict(chat_history, answer, isquery=False)\n",
    "        print('\\n', query, ' \\n', answer)\n",
    "\n",
    "chat = run_chatbox()"
   ]
  },
  {
   "cell_type": "code",
   "execution_count": 29,
   "metadata": {},
   "outputs": [
    {
     "name": "stdout",
     "output_type": "stream",
     "text": [
      "[{'role': 'user', 'conten': 'What are stock symbols for Seagate Technology PLC and nicolet-bankshares-inc?'}, {'role': 'assistant', 'conten': 'The stock symbol for Seagate Technology PLC is STX and the stock symbol for Nicolet Bankshares Inc is NCBS.'}, {'role': 'user', 'conten': 'What are their latest financial performance? '}, {'role': 'assistant', 'conten': 'Seagate Technology PLC reported a revenue of $2.7 billion and a net income of $482 million in Q2 2021. Nicolet Bankshares Inc reported a net income of $10.5 million in Q2 2021.'}, {'role': 'user', 'conten': 'Do they have a global presence? '}, {'role': 'assistant', 'conten': 'Seagate Technology PLC has a global presence with operations in over 40 countries, while Nicolet Bankshares Inc operates solely in the United States.'}, {'role': 'user', 'conten': \"Who are some of Seagate Technology PLC's major competitors? \"}, {'role': 'assistant', 'conten': \"Seagate Technology PLC's major competitors include Western Digital Corporation, Toshiba Corporation, and Samsung Electronics Co Ltd in the data storage industry.\"}]\n"
     ]
    }
   ],
   "source": [
    "print(chat)"
   ]
  }
 ],
 "metadata": {
  "kernelspec": {
   "display_name": ".venv",
   "language": "python",
   "name": "python3"
  },
  "language_info": {
   "codemirror_mode": {
    "name": "ipython",
    "version": 3
   },
   "file_extension": ".py",
   "mimetype": "text/x-python",
   "name": "python",
   "nbconvert_exporter": "python",
   "pygments_lexer": "ipython3",
   "version": "3.11.3"
  },
  "orig_nbformat": 4
 },
 "nbformat": 4,
 "nbformat_minor": 2
}
