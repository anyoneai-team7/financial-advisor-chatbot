{
 "cells": [
  {
   "cell_type": "code",
   "execution_count": 1,
   "metadata": {},
   "outputs": [],
   "source": [
    "import logging\n",
    "import os\n",
    "import multiprocessing\n",
    "from src.extract import Extractor\n",
    "from src.load import Indexer\n",
    "\n",
    "logging.basicConfig(level=logging.INFO, format=\"%(processName)s %(message)s\")\n",
    "\n",
    "name__ = \"main__\"\n",
    "\n",
    "if name__ == \"main__\":\n",
    "    parent_conn, child_conn = multiprocessing.Pipe()\n",
    "    extractor = Extractor(\n",
    "        parent_conn,\n",
    "        \"anyoneai-datasets\",\n",
    "        \"nasdaq_annual_reports\",\n",
    "        os.path.join(os.getcwd(), \"dataset\"),\n",
    "    )\n",
    "    indexer = Indexer(child_conn)\n",
    "\n",
    "    extractor.start()\n",
    "    indexer.start()"
   ]
  }
 ],
 "metadata": {
  "kernelspec": {
   "display_name": ".venv",
   "language": "python",
   "name": "python3"
  },
  "language_info": {
   "codemirror_mode": {
    "name": "ipython",
    "version": 3
   },
   "file_extension": ".py",
   "mimetype": "text/x-python",
   "name": "python",
   "nbconvert_exporter": "python",
   "pygments_lexer": "ipython3",
   "version": "3.11.3"
  },
  "orig_nbformat": 4
 },
 "nbformat": 4,
 "nbformat_minor": 2
}
