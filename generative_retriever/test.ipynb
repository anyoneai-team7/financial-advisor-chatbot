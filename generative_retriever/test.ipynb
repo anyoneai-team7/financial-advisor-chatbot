{
 "cells": [
  {
   "cell_type": "code",
   "execution_count": 1,
   "metadata": {},
   "outputs": [],
   "source": [
    "%load_ext autoreload\n",
    "%autoreload 2"
   ]
  },
  {
   "cell_type": "code",
   "execution_count": 6,
   "metadata": {},
   "outputs": [],
   "source": [
    "import json\n",
    "from src.lang_agent import make_agent\n",
    "from dotenv import load_dotenv"
   ]
  },
  {
   "cell_type": "code",
   "execution_count": 3,
   "metadata": {},
   "outputs": [],
   "source": [
    "load_dotenv()\n",
    "agent=make_agent()"
   ]
  },
  {
   "cell_type": "code",
   "execution_count": 4,
   "metadata": {},
   "outputs": [],
   "source": [
    "qas=[]\n",
    "with open('./qa_dataset.json') as qas_json:\n",
    "    qas=json.loads(qas_json.read())\n",
    "queries=[qa['question'] for qa in qas]"
   ]
  },
  {
   "cell_type": "code",
   "execution_count": 16,
   "metadata": {},
   "outputs": [
    {
     "name": "stdout",
     "output_type": "stream",
     "text": [
      "Query:What was Amazon's net sales in year ended 2020?,\n",
      "Answer: According to the provided context, Amazon's net sales in 2020 were $386.064 billion., \n",
      "Expected:$386 billion USD\n",
      "\n",
      "\n",
      "Query:What business segment contributed the most to Amazon's revenue in 2020?,\n",
      "Answer: Amazon's net sales in 2020 were $386 billion. The majority of this revenue came from the company's online stores segment, which generated $197 billion in net sales. The second largest segment was third-party seller services, which generated $80 billion in net sales. The other segments, including Amazon Web Services, subscription services, and physical stores, contributed smaller amounts to the company's overall revenue., \n",
      "Expected:Online stores\n",
      "\n",
      "\n",
      "Query:What was the operating income of Amazon Web Services (AWS) in year ended 2020?,\n",
      "Answer: The operating income of Amazon Web Services (AWS) in the year ended 2020 was $13.5 billion., \n",
      "Expected:$13.5 billion USD\n",
      "\n",
      "\n",
      "Query:How many employees did Amazon have at the end of 2020?,\n",
      "Answer: Amazon had 1.3 million employees around the world at the end of 2020., \n",
      "Expected:1.3 million\n",
      "\n",
      "\n"
     ]
    },
    {
     "name": "stderr",
     "output_type": "stream",
     "text": [
      "Retrying langchain.chat_models.openai.ChatOpenAI.completion_with_retry.<locals>._completion_with_retry in 1.0 seconds as it raised RateLimitError: Rate limit reached for default-gpt-3.5-turbo in organization org-c2TbtIepZ5XhTAXGBACN8PtX on requests per min. Limit: 3 / min. Please try again in 20s. Contact us through our help center at help.openai.com if you continue to have issues. Please add a payment method to your account to increase your rate limit. Visit https://platform.openai.com/account/billing to add a payment method..\n",
      "Retrying langchain.chat_models.openai.ChatOpenAI.completion_with_retry.<locals>._completion_with_retry in 2.0 seconds as it raised RateLimitError: Rate limit reached for default-gpt-3.5-turbo in organization org-c2TbtIepZ5XhTAXGBACN8PtX on requests per min. Limit: 3 / min. Please try again in 20s. Contact us through our help center at help.openai.com if you continue to have issues. Please add a payment method to your account to increase your rate limit. Visit https://platform.openai.com/account/billing to add a payment method..\n"
     ]
    },
    {
     "name": "stdout",
     "output_type": "stream",
     "text": [
      "Query:What is the name of Amazon's membership program that offers free shipping and other benefits?,\n",
      "Answer: Amazon's membership program that offers free shipping and other benefits is called Amazon Prime., \n",
      "Expected:Amazon Prime\n",
      "\n",
      "\n",
      "Query:What is the primary business of 21Vianet?,\n",
      "Answer: I apologize for the confusion earlier. 21Vianet is a leading carrier-neutral internet data center services provider in China. The company provides hosting and related services, managed network services, cloud infrastructure services, and content delivery network services. It serves a range of customers, including internet companies, government entities, blue-chip enterprises, and small- to mid-sized enterprises., \n",
      "Expected:Data center services and internet infrastructure\n",
      "\n",
      "\n",
      "Query:What is the stock ticker symbol for 21Vianet Group?,\n",
      "Answer: The stock ticker symbol for 21Vianet Group is VNET, \n",
      "Expected:VNET\n",
      "\n",
      "\n",
      "Query:What was the total net revenue of 21Vianet in 2019?,\n",
      "Answer: The total net revenue of 21Vianet in 2019 was $544,251., \n",
      "Expected:RMB 3.79 billion or US$ 0.54 billion\n",
      "\n",
      "\n",
      "Query:How many data centers did 21Vianet operate at the end of 2019?,\n",
      "Answer: As of December 31, 2019, 21Vianet operated 26 self-built data centers and 51 partnered data centers, totaling 77 data centers., \n",
      "Expected:26 self-built data centers and 51 partnered data centers (77 in total)\n",
      "\n",
      "\n",
      "Query:Where was 21Vianet founded?,\n",
      "Answer: 21Vianet was founded in China., \n",
      "Expected:Beijing, China\n",
      "\n",
      "\n",
      "Query:What is the primary business of Appfolio Inc?,\n",
      "Answer: Appfolio Inc provides cloud-based business management solutions for the real estate industry. Their solutions enable customers to automate and streamline critical business operations and deliver a better customer experience., \n",
      "Expected:Cloud-based property management software\n",
      "\n",
      "\n",
      "Query:What is the stock ticker symbol for Appfolio Inc?,\n",
      "Answer: You can search for the stock ticker symbol for Appfolio Inc on a financial website or by contacting a stockbroker., \n",
      "Expected:APPF\n",
      "\n",
      "\n",
      "Query:What was the total revenue of Appfolio Inc in 2020?,\n",
      "Answer: The total revenue of Appfolio Inc in 2020 was $310,056,000., \n",
      "Expected:$310.1 million USD\n",
      "\n",
      "\n",
      "Query:What year was Appfolio Inc founded?,\n",
      "Answer: AppFolio Inc was founded in 2006., \n",
      "Expected:2006\n",
      "\n",
      "\n",
      "Query:Who are the founders of Appfolio Inc?,\n",
      "Answer: The founders of Appfolio Inc are Brian Donahoo and Klaus Schauser., \n",
      "Expected:Brian Donahoo, Klaus Schauser, and Jon Walker\n",
      "\n",
      "\n",
      "Query:What is the primary business of Atlassian?,\n",
      "Answer: Atlassian's primary business is designing, developing, licensing, and maintaining software and providing software hosting services to help teams organize, discuss, and complete their work. Their primary products include Jira Software, Jira Work Management, Confluence, Trello, and Jira Service Management., \n",
      "Expected:Team collaboration and productivity software\n",
      "\n",
      "\n",
      "Query:What is the stock ticker symbol for Atlassian?,\n",
      "Answer: The stock ticker symbol for Atlassian is TEAM and it is traded on the NASDAQ stock exchange., \n",
      "Expected:TEAM\n",
      "\n",
      "\n"
     ]
    }
   ],
   "source": [
    "for i, query in enumerate(queries[0:17]):\n",
    "    output=agent({'input':query, 'chat_history':[]})['output']\n",
    "    print(f\"Query:{query},\\nAnswer: {output}, \\nExpected:{qas[i]['answer']}\\n\\n\")"
   ]
  }
 ],
 "metadata": {
  "kernelspec": {
   "display_name": "venv",
   "language": "python",
   "name": "python3"
  },
  "language_info": {
   "codemirror_mode": {
    "name": "ipython",
    "version": 3
   },
   "file_extension": ".py",
   "mimetype": "text/x-python",
   "name": "python",
   "nbconvert_exporter": "python",
   "pygments_lexer": "ipython3",
   "version": "3.10.9"
  },
  "orig_nbformat": 4
 },
 "nbformat": 4,
 "nbformat_minor": 2
}
