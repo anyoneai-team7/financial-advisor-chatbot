{
 "cells": [
  {
   "cell_type": "code",
   "execution_count": 9,
   "metadata": {},
   "outputs": [
    {
     "name": "stdout",
     "output_type": "stream",
     "text": [
      "The autoreload extension is already loaded. To reload it, use:\n",
      "  %reload_ext autoreload\n"
     ]
    }
   ],
   "source": [
    "%load_ext autoreload\n",
    "%autoreload 2"
   ]
  },
  {
   "cell_type": "code",
   "execution_count": 15,
   "metadata": {},
   "outputs": [],
   "source": [
    "import json\n",
    "from src.lang_agent import make_agent\n",
    "from dotenv import load_dotenv\n",
    "from typing import List\n",
    "\n",
    "import json\n",
    "import redis\n",
    "import time\n",
    "import os\n",
    "from uuid import uuid4\n",
    "from src import settings\n",
    "\n",
    "from langchain.schema import (\n",
    "    BaseMessage,\n",
    "    HumanMessage,\n",
    "    AIMessage,\n",
    "    SystemMessage,\n",
    "    messages_to_dict,\n",
    ")"
   ]
  },
  {
   "cell_type": "code",
   "execution_count": 17,
   "metadata": {},
   "outputs": [
    {
     "data": {
      "text/plain": [
       "True"
      ]
     },
     "execution_count": 17,
     "metadata": {},
     "output_type": "execute_result"
    }
   ],
   "source": [
    "# Connect to Redis and assign to variable `db``\n",
    "# Make use of settings.py module to get Redis settings like host, port, etc.\n",
    "db = redis.Redis(settings.REDIS_IP, settings.REDIS_PORT, db=settings.REDIS_DB_ID)\n",
    "db.ping()"
   ]
  },
  {
   "cell_type": "code",
   "execution_count": 18,
   "metadata": {},
   "outputs": [],
   "source": [
    "def agent_predict(job_id:str, chat_history:List[BaseMessage])->List[BaseMessage]:\n",
    "    \"\"\"\n",
    "    Receives the name of the user job_id and queues the job into Redis.\n",
    "    Will loop until getting the answer from our retriver-generative service.\n",
    "\n",
    "    Parameters\n",
    "    ----------\n",
    "    job_id: str\n",
    "        id of the task\n",
    "    messages : list[BaseMessage]\n",
    "        chat_history\n",
    "\n",
    "    Returns\n",
    "    -------\n",
    "    answer:  str\n",
    "        Model generate an answer as a string \n",
    "    \"\"\"\n",
    "    \n",
    "    # Assign an unique ID for this job and add it to the queue.\n",
    "    # We need to assing this ID because we must be able to keep track\n",
    "    # of this particular job across all the services\n",
    "    job_id = str(uuid4())\n",
    "\n",
    "    # Create a dict with the job data we will send through Redis having the   \n",
    "    Out_dict = {\n",
    "        \"id\": job_id,\n",
    "        \"chat_history\":chat_history,\n",
    "    }\n",
    "    job_data = json.dumps(Out_dict)\n",
    "\n",
    "    # Send the job to the model service using Redis \n",
    "    db.lpush(settings.REDIS_QUEUE, job_data)\n",
    "\n",
    "    # Loop until we received the response from the retriver-generative model\n",
    "    while True:\n",
    "        # Attempt to get model predictions using job_id        \n",
    "        output = db.get(job_id)\n",
    "\n",
    "        # Check if the text was correctly processed by our model\n",
    "        if output is not None:\n",
    "            answer = json.loads(output)['answer']\n",
    "            \n",
    "            db.delete(job_id)\n",
    "            break\n",
    "\n",
    "        # Sleep some time waiting for model results\n",
    "        time.sleep(settings.SERVER_SLEEP)\n",
    "\n",
    "    return answer"
   ]
  },
  {
   "cell_type": "code",
   "execution_count": 20,
   "metadata": {},
   "outputs": [
    {
     "name": "stdout",
     "output_type": "stream",
     "text": [
      "Query:What year was Atlassian founded?,\n",
      "Answer: Atlassian was founded in 2002.\n",
      "Query:Where is the headquarters?,\n",
      "Answer: Atlassian's headquarters is located in Sydney, Australia. They also have offices around the world, including in the San Francisco Bay Area, California, Austin, Texas, the Netherlands, Japan, and other locations.\n",
      "Query:What is the primary business?,\n",
      "Answer: I apologize for the confusion earlier. Atlassian's primary business is developing and selling software for software developers, project managers, and content management. Their products include Jira, Confluence, Bitbucket, and Trello, among others.\n"
     ]
    }
   ],
   "source": [
    "# simule user interaction\n",
    "def run_chatbox():\n",
    "    chat_history = []\n",
    "    job_id = str(uuid4())\n",
    "    while True:\n",
    "        query = input('User: ')\n",
    "        if query == 'exit': \n",
    "            return output, chat_history\n",
    "        chat_history.append(HumanMessage(content=query))\n",
    "\n",
    "        # Run the agent with the query and chat history\n",
    "        output = agent_predict(job_id, messages_to_dict(chat_history))\n",
    "        print(f\"Query:{query},\\nAnswer: {output}\")\n",
    "\n",
    "        # updating chat history\n",
    "        chat_history.append(AIMessage(content=output))\n",
    "        \n",
    "\n",
    "output, history = run_chatbox()"
   ]
  },
  {
   "cell_type": "code",
   "execution_count": 21,
   "metadata": {},
   "outputs": [
    {
     "data": {
      "text/plain": [
       "[HumanMessage(content='What year was Atlassian founded?', additional_kwargs={}, example=False),\n",
       " AIMessage(content='Atlassian was founded in 2002.', additional_kwargs={}, example=False),\n",
       " HumanMessage(content='Where is the headquarters?', additional_kwargs={}, example=False),\n",
       " AIMessage(content=\"Atlassian's headquarters is located in Sydney, Australia. They also have offices around the world, including in the San Francisco Bay Area, California, Austin, Texas, the Netherlands, Japan, and other locations.\", additional_kwargs={}, example=False),\n",
       " HumanMessage(content='What is the primary business?', additional_kwargs={}, example=False),\n",
       " AIMessage(content=\"I apologize for the confusion earlier. Atlassian's primary business is developing and selling software for software developers, project managers, and content management. Their products include Jira, Confluence, Bitbucket, and Trello, among others.\", additional_kwargs={}, example=False)]"
      ]
     },
     "execution_count": 21,
     "metadata": {},
     "output_type": "execute_result"
    }
   ],
   "source": [
    "history"
   ]
  }
 ],
 "metadata": {
  "kernelspec": {
   "display_name": ".venv",
   "language": "python",
   "name": "python3"
  },
  "language_info": {
   "codemirror_mode": {
    "name": "ipython",
    "version": 3
   },
   "file_extension": ".py",
   "mimetype": "text/x-python",
   "name": "python",
   "nbconvert_exporter": "python",
   "pygments_lexer": "ipython3",
   "version": "3.11.3"
  },
  "orig_nbformat": 4
 },
 "nbformat": 4,
 "nbformat_minor": 2
}
