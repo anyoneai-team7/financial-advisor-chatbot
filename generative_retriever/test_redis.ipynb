{
 "cells": [
  {
   "cell_type": "code",
   "execution_count": 1,
   "metadata": {},
   "outputs": [],
   "source": [
    "%load_ext autoreload\n",
    "%autoreload 2"
   ]
  },
  {
   "cell_type": "code",
   "execution_count": 14,
   "metadata": {},
   "outputs": [],
   "source": [
    "import json\n",
    "from typing import List, Dict\n",
    "import json\n",
    "import redis\n",
    "import time\n",
    "from uuid import uuid4\n",
    "from src import settings"
   ]
  },
  {
   "cell_type": "code",
   "execution_count": 15,
   "metadata": {},
   "outputs": [
    {
     "data": {
      "text/plain": [
       "True"
      ]
     },
     "execution_count": 15,
     "metadata": {},
     "output_type": "execute_result"
    }
   ],
   "source": [
    "# Connect to Redis and assign to variable `db``\n",
    "# Make use of settings.py module to get Redis settings like host, port, etc.\n",
    "db = redis.Redis(settings.REDIS_IP, settings.REDIS_PORT, db=settings.REDIS_DB_ID)\n",
    "db.ping()"
   ]
  },
  {
   "cell_type": "code",
   "execution_count": 16,
   "metadata": {},
   "outputs": [],
   "source": [
    "def user_predict(job_id:str, chat_history:List[Dict[str,str]])->str:\n",
    "    \"\"\"\n",
    "    Receives the name of the user job_id and queues the job into Redis.\n",
    "    Will loop until getting the answer from our retriver-generative service.\n",
    "\n",
    "    Parameters\n",
    "    ----------\n",
    "    job_id: str\n",
    "        id of the task\n",
    "    messages : list[BaseMessage]\n",
    "        chat_history\n",
    "\n",
    "    Returns\n",
    "    -------\n",
    "    answer:  str\n",
    "        Model generate an answer as a string \n",
    "    \"\"\"\n",
    "    \n",
    "    # Assign an unique ID for this job and add it to the queue.\n",
    "    # We need to assing this ID because we must be able to keep track\n",
    "    # of this particular job across all the services\n",
    "    job_id = str(uuid4())\n",
    "\n",
    "    # Create a dict with the job data we will send through Redis having the   \n",
    "    Out_dict = {\n",
    "        \"id\": job_id,\n",
    "        \"messages\":chat_history,\n",
    "    }\n",
    "    job_data = json.dumps(Out_dict)\n",
    "\n",
    "    # Send the job to the model service using Redis \n",
    "    db.lpush(settings.REDIS_QUEUE, job_data)\n",
    "\n",
    "    # Loop until we received the response from the retriver-generative model\n",
    "    while True:\n",
    "        # Attempt to get model predictions using job_id        \n",
    "        output = db.get(job_id)\n",
    "\n",
    "        # Check if the text was correctly processed by our model\n",
    "        if output is not None:\n",
    "            answer = json.loads(output)['answer']\n",
    "            \n",
    "            db.delete(job_id)\n",
    "            break\n",
    "\n",
    "        # Sleep some time waiting for model results\n",
    "        time.sleep(settings.SERVER_SLEEP)\n",
    "\n",
    "    return answer"
   ]
  },
  {
   "cell_type": "code",
   "execution_count": 20,
   "metadata": {},
   "outputs": [
    {
     "name": "stdout",
     "output_type": "stream",
     "text": [
      "Query:What is AWS?,\n",
      "Answer: AWS is a cloud computing platform provided by Amazon that offers a wide range of services including compute, storage, database, and other services. Some examples of AWS services are DynamoDB, a highly scalable, low latency key-value database, and AWS EC2, which provides scalable computing capacity in the cloud. Other services include AWS S3 for object storage, AWS Lambda for serverless computing, and AWS RDS for managed relational databases.\n",
      "Query:EXIT,\n",
      "Answer: {'role': 'assistant', 'content': 'Goodbye!'}\n"
     ]
    }
   ],
   "source": [
    "# simule user interaction\n",
    "def run_chatbox():\n",
    "    chat_history = []\n",
    "    job_id = str(uuid4())\n",
    "    while True:\n",
    "        query = input('User: ')\n",
    "        if query == 'exit': \n",
    "            return output, chat_history\n",
    "        chat_history.append({'role':'user', 'content':query})\n",
    "\n",
    "        # Run the agent with the query and chat history\n",
    "        try:\n",
    "            output = json.loads(user_predict(job_id, chat_history))['action_input']\n",
    "        except ValueError:\n",
    "            output=user_predict(job_id, chat_history)\n",
    "\n",
    "        print(f\"Query:{query},\\nAnswer: {output}\")\n",
    "\n",
    "        # updating chat history\n",
    "        chat_history.append({'role':'assistant', 'content':output})\n",
    "        \n",
    "\n",
    "output, history = run_chatbox()"
   ]
  },
  {
   "cell_type": "code",
   "execution_count": 13,
   "metadata": {},
   "outputs": [
    {
     "data": {
      "text/plain": [
       "[{'role': 'user',\n",
       "  'content': 'What was the total revenue of Atlassian in fiscal year ended june 30 2021?'},\n",
       " {'role': 'assistant',\n",
       "  'content': 'The total revenue of Atlassian in fiscal year ended June 30, 2021 was $2.1 billion.'},\n",
       " {'role': 'user',\n",
       "  'content': 'What was the operating income of Amazon Web Services (AWS) in year ended 2020?'},\n",
       " {'role': 'assistant',\n",
       "  'content': 'The operating income for Amazon Web Services (AWS) in 2020 was $13.5 billion.'}]"
      ]
     },
     "execution_count": 13,
     "metadata": {},
     "output_type": "execute_result"
    }
   ],
   "source": [
    "history"
   ]
  }
 ],
 "metadata": {
  "kernelspec": {
   "display_name": ".venv",
   "language": "python",
   "name": "python3"
  },
  "language_info": {
   "codemirror_mode": {
    "name": "ipython",
    "version": 3
   },
   "file_extension": ".py",
   "mimetype": "text/x-python",
   "name": "python",
   "nbconvert_exporter": "python",
   "pygments_lexer": "ipython3",
   "version": "3.10.9"
  },
  "orig_nbformat": 4
 },
 "nbformat": 4,
 "nbformat_minor": 2
}
